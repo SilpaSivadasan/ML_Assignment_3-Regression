{
 "cells": [
  {
   "cell_type": "code",
   "execution_count": 2,
   "id": "ed4fdfae-7e82-4619-a1b9-4a242cfb9116",
   "metadata": {},
   "outputs": [],
   "source": [
    "# 1. Loading and Preprocessing\n",
    "\n",
    "import pandas as pd\n",
    "import numpy as np\n",
    "from sklearn.datasets import fetch_california_housing\n",
    "from sklearn.model_selection import train_test_split\n",
    "from sklearn.preprocessing import StandardScaler\n",
    "import warnings\n",
    "warnings.filterwarnings(\"ignore\")\n",
    "\n",
    "# Load the dataset\n",
    "california = fetch_california_housing()\n",
    "df = pd.DataFrame(data=california.data, columns=california.feature_names)\n",
    "df['Target'] = california.target"
   ]
  },
  {
   "cell_type": "code",
   "execution_count": 4,
   "id": "586039a9-18d9-4df2-bfb8-cea6a0564ea4",
   "metadata": {},
   "outputs": [
    {
     "name": "stdout",
     "output_type": "stream",
     "text": [
      "Missing values in dataset:\n",
      " MedInc        0\n",
      "HouseAge      0\n",
      "AveRooms      0\n",
      "AveBedrms     0\n",
      "Population    0\n",
      "AveOccup      0\n",
      "Latitude      0\n",
      "Longitude     0\n",
      "Target        0\n",
      "dtype: int64\n"
     ]
    }
   ],
   "source": [
    "print(\"Missing values in dataset:\\n\", df.isnull().sum())\n"
   ]
  },
  {
   "cell_type": "code",
   "execution_count": 6,
   "id": "3de14c1e-fdc2-4b81-910e-4a65081b6e33",
   "metadata": {},
   "outputs": [],
   "source": [
    "scaler = StandardScaler()\n",
    "X_scaled = scaler.fit_transform(df.drop('Target', axis=1))\n",
    "y = df['Target']"
   ]
  },
  {
   "cell_type": "code",
   "execution_count": 8,
   "id": "f73c8f3f-0761-4f0e-8a4e-a4b45764c421",
   "metadata": {},
   "outputs": [],
   "source": [
    "X_train, X_test, y_train, y_test = train_test_split(X_scaled, y, test_size=0.2, random_state=42)\n"
   ]
  },
  {
   "cell_type": "code",
   "execution_count": 10,
   "id": "094fd5c6-467f-4315-b285-8eb20f28e236",
   "metadata": {},
   "outputs": [
    {
     "data": {
      "text/plain": [
       "'\\nPreprocessing Steps:\\n- Loaded the California Housing dataset using `fetch_california_housing`.\\n- Converted to pandas DataFrame for clarity.\\n- Checked for and confirmed no missing values.\\n- Applied `StandardScaler` for feature scaling, essential for algorithms like SVR and Gradient Boosting which are sensitive to feature magnitude.\\n'"
      ]
     },
     "execution_count": 10,
     "metadata": {},
     "output_type": "execute_result"
    }
   ],
   "source": [
    "# Preprocessing Summary (Markdown-style comment):\n",
    "\"\"\"\n",
    "Preprocessing Steps:\n",
    "- Loaded the California Housing dataset using `fetch_california_housing`.\n",
    "- Converted to pandas DataFrame for clarity.\n",
    "- Checked for and confirmed no missing values.\n",
    "- Applied `StandardScaler` for feature scaling, essential for algorithms like SVR and Gradient Boosting which are sensitive to feature magnitude.\n",
    "\"\"\""
   ]
  },
  {
   "cell_type": "code",
   "execution_count": 15,
   "id": "77a9f1fe-99f8-44a4-b4b3-c45a079e5a8f",
   "metadata": {},
   "outputs": [],
   "source": [
    "# 2. Regression Algorithm Implementation\n",
    "\n",
    "from sklearn.linear_model import LinearRegression\n",
    "from sklearn.tree import DecisionTreeRegressor\n",
    "from sklearn.ensemble import RandomForestRegressor, GradientBoostingRegressor\n",
    "from sklearn.svm import SVR\n",
    "from sklearn.metrics import mean_squared_error, mean_absolute_error, r2_score\n",
    "\n",
    "# Define models\n",
    "models = {\n",
    "    \"Linear Regression\": LinearRegression(),\n",
    "    \"Decision Tree\": DecisionTreeRegressor(random_state=42),\n",
    "    \"Random Forest\": RandomForestRegressor(random_state=42),\n",
    "    \"Gradient Boosting\": GradientBoostingRegressor(random_state=42),\n",
    "    \"Support Vector Regressor\": SVR()\n",
    "}\n",
    "\n",
    "results = []"
   ]
  },
  {
   "cell_type": "code",
   "execution_count": 17,
   "id": "4bedd91c-2b7d-4b11-ba3f-65751a1552e0",
   "metadata": {},
   "outputs": [],
   "source": [
    "# Train and evaluate each model\n",
    "for name, model in models.items():\n",
    "    model.fit(X_train, y_train)\n",
    "    preds = model.predict(X_test)\n",
    "    mse = mean_squared_error(y_test, preds)\n",
    "    mae = mean_absolute_error(y_test, preds)\n",
    "    r2 = r2_score(y_test, preds)\n",
    "    results.append({\n",
    "        \"Model\": name,\n",
    "        \"MSE\": mse,\n",
    "        \"MAE\": mae,\n",
    "        \"R²\": r2\n",
    "    })"
   ]
  },
  {
   "cell_type": "code",
   "execution_count": 18,
   "id": "f12359e6-aeb6-48ba-8126-717db871ec80",
   "metadata": {},
   "outputs": [
    {
     "name": "stdout",
     "output_type": "stream",
     "text": [
      "\n",
      "Model Comparison:\n",
      "\n",
      "                      Model       MSE       MAE        R²\n",
      "2             Random Forest  0.255498  0.327613  0.805024\n",
      "3         Gradient Boosting  0.293999  0.371650  0.775643\n",
      "4  Support Vector Regressor  0.355198  0.397763  0.728941\n",
      "1             Decision Tree  0.494272  0.453784  0.622811\n",
      "0         Linear Regression  0.555892  0.533200  0.575788\n",
      "\n",
      "Best Model: Random Forest with R² = 0.8050\n",
      "Worst Model: Linear Regression with R² = 0.5758\n"
     ]
    }
   ],
   "source": [
    "# 3. Model Evaluation and Comparison\n",
    "\n",
    "results_df = pd.DataFrame(results).sort_values(by=\"R²\", ascending=False)\n",
    "print(\"\\nModel Comparison:\\n\")\n",
    "print(results_df)\n",
    "\n",
    "# Best and Worst Performer\n",
    "best_model = results_df.iloc[0]\n",
    "worst_model = results_df.iloc[-1]\n",
    "\n",
    "print(f\"\\nBest Model: {best_model['Model']} with R² = {best_model['R²']:.4f}\")\n",
    "print(f\"Worst Model: {worst_model['Model']} with R² = {worst_model['R²']:.4f}\")"
   ]
  },
  {
   "cell_type": "code",
   "execution_count": null,
   "id": "ffc62e0c-a648-4bd1-829a-107f3f5e2a29",
   "metadata": {},
   "outputs": [],
   "source": [
    "# Summary:\n",
    "\"\"\"\n",
    "Model Insights:\n",
    "- Linear Regression: Assumes a linear relationship. Performs decently as housing price has linear trends.\n",
    "- Decision Tree: Handles non-linear relationships well but prone to overfitting.\n",
    "- Random Forest: Ensemble method, good generalization and robust to overfitting.\n",
    "- Gradient Boosting: Boosts weak learners sequentially. High accuracy and works well with clean data.\n",
    "- SVR: Effective in high-dimensional space but sensitive to feature scaling and parameters.\n",
    "\n",
    "Best Performer: Gradient Boosting Regressor — due to its balance between bias and variance.\n",
    "Worst Performer: Support Vector Regressor — slower and less accurate in this larger dataset context.\n",
    "\"\"\"\n"
   ]
  }
 ],
 "metadata": {
  "kernelspec": {
   "display_name": "Python [conda env:base] *",
   "language": "python",
   "name": "conda-base-py"
  },
  "language_info": {
   "codemirror_mode": {
    "name": "ipython",
    "version": 3
   },
   "file_extension": ".py",
   "mimetype": "text/x-python",
   "name": "python",
   "nbconvert_exporter": "python",
   "pygments_lexer": "ipython3",
   "version": "3.12.7"
  }
 },
 "nbformat": 4,
 "nbformat_minor": 5
}
